{
 "cells": [
  {
   "cell_type": "markdown",
   "id": "20b409e7-32cb-44b1-9493-bf5e2a2583ab",
   "metadata": {},
   "source": [
    "# Project Planning Stage (Individual)\n",
    "\n",
    "## (1) Data Description:\n",
    "- ### player.csv\n",
    "    - The player.csv dataset contains information about each unique player that has played on the MineCraft server. With the record spanning 196 different players (observations), the dataset keeps track of 7 kinds of information (variables) of each player as seen in the following.\n",
    "\n",
    "| **Information**    | **Information Type** | **Description**        | **Statistic Summary**    | **Experience** | **Factor**    |\n",
    "|--------------------|----------------------|------------------------|--------------------------|----------------|---------------|\n",
    "| subscribe          | Logical              | (lgl)                  | -                        | -              | -             |\n",
    "| hashedEmail        | Character Vector     | (chr)                  | -                        | -              | -             |\n",
    "| played_hours       | Double               | (dbl)                  | Mean/Median/Mode/Min/Max | -              | -             |\n",
    "| name               | String               | (chr)                  | -                        | -              | -             |\n",
    "| gender             | String               | (chr)                  | -                        | -              | -             |\n",
    "| Age                | Double               | (dbl)                  | Mean/Median/Mode/Min/Max | -              | -             |\n",
    "\n",
    "    - In this dataset, there are a some potential issues that are present in the data. \n",
    "        1. There are 'N/A' values in some of the cells, indicating that we have to either skip over those cells or replace them with a different value\n",
    "        2. The dataset underrepresents Non-binary people as they seems be in the minority in the gender category\n",
    "        3. The dataset underrepresents people of higher ages as most of the players around around 18 - 21\n",
    "\n",
    "    - Additionally, some factors that we may consider are "
   ]
  },
  {
   "cell_type": "code",
   "execution_count": null,
   "id": "a4caf65b-03a9-48cd-a39b-065a255a7166",
   "metadata": {},
   "outputs": [],
   "source": []
  }
 ],
 "metadata": {
  "kernelspec": {
   "display_name": "R",
   "language": "R",
   "name": "ir"
  },
  "language_info": {
   "codemirror_mode": "r",
   "file_extension": ".r",
   "mimetype": "text/x-r-source",
   "name": "R",
   "pygments_lexer": "r",
   "version": "4.3.3"
  }
 },
 "nbformat": 4,
 "nbformat_minor": 5
}
