{
 "cells": [
  {
   "cell_type": "markdown",
   "id": "20b409e7-32cb-44b1-9493-bf5e2a2583ab",
   "metadata": {},
   "source": [
    "# Project Planning Stage (Individual)\n",
    "\n",
    "## (1) Data Description:\n",
    "- ### player.csv\n",
    "    - The player.csv dataset contains information about each unique player that has played on the MineCraft server. With the record spanning 196 different players (observations), the dataset keeps track of 7 kinds of information (variables) of each player as seen in the following.\n",
    "\n",
    "| **Information**    | **Information Type** | **Description**        | **Statistic Summary**    | **Experience** | **Factor**    |\n",
    "|--------------------|----------------------|------------------------|--------------------------|----------------|---------------|\n",
    "| subscribe          | Logical              | (lgl)                  | -                        | -              | -             |\n",
    "| hashedEmail        | Character Vector     | (chr)                  | -                        | -              | -             |\n",
    "| played_hours       | Double               | (dbl)                  | Mean/Median/Mode/Min/Max | -              | -             |\n",
    "| name               | String               | (chr)                  | -                        | -              | -             |\n",
    "| gender             | String               | (chr)                  | -                        | -              | -             |\n",
    "| Age                | Double               | (dbl)                  | Mean/Median/Mode/Min/Max | -              | -             |\n",
    "\n",
    "- In this dataset, there are some potential issues that are present in the data.\n",
    "  1. There are 'N/A' values in some of the cells, indicating that we have to either skip over those cells or replace them with a different value\n",
    "  2. The dataset underrepresents Non-binary people as they seems be in the minority in the gender category\n",
    "  3. The dataset underrepresents people of higher ages as most of the players around around 18 - 21\n",
    "- Additionally, some unseen factors may include things such as where the data was collected or the reasoning behind people inputting 'N/A' as an answer "
   ]
  },
  {
   "cell_type": "markdown",
   "id": "34c3cfbf-2169-4be4-a665-c3fd11a9ae47",
   "metadata": {},
   "source": [
    "## (2) Questions:\n",
    "- ### Broad Question\n",
    "    - What player characteristics and behaviours are most predictive of subscribing to a game-related newsletter, and how do these features differ between various player types?\n",
    "- ### Specific Question\n",
    "    - Can the skill level of players, age, and played hours predict subscription rates in player.csv?"
   ]
  },
  {
   "cell_type": "markdown",
   "id": "b03fc4d4-06e3-4842-9db4-ff9513a80a8a",
   "metadata": {},
   "source": [
    "## (3) Exploratory Data Analysis and Visualization:"
   ]
  },
  {
   "cell_type": "code",
   "execution_count": null,
   "id": "73c9b4a3-5023-4333-98f6-444164719183",
   "metadata": {},
   "outputs": [],
   "source": [
    "#Required libraries\n",
    "library(tidyverse)"
   ]
  },
  {
   "cell_type": "code",
   "execution_count": null,
   "id": "64ae9ed8-b504-4513-a48c-eee472aeaf28",
   "metadata": {},
   "outputs": [],
   "source": [
    "# Loading dataset into R\n",
    "players_data <- read_csv(\"data/players.csv\")\n",
    "players_data"
   ]
  },
  {
   "cell_type": "code",
   "execution_count": null,
   "id": "4b5f22e2-8808-41cd-a3fa-613e4e95f77b",
   "metadata": {},
   "outputs": [],
   "source": [
    "# Minimum Wrangling on dataset\n",
    "players_tidy <- players_data |>\n",
    "    mutate(experience = as_factor(experience), gender = as_factor(gender))\n",
    "players_tidy"
   ]
  },
  {
   "cell_type": "code",
   "execution_count": null,
   "id": "3820da10-b642-4000-a5fd-66d0128937b3",
   "metadata": {},
   "outputs": [],
   "source": [
    "#Computing mean values for each quantitative variable\n",
    "played_hours_mean <- players_tidy |> select(played_hours) |> map_dfr(max, na.rm = TRUE) |> pull()\n",
    "age_mean <- players_tidy |> select(Age) |> map_dfr(max, na.rm = TRUE) |> pull()\n",
    "\n",
    "played_hours_mean\n",
    "age_mean"
   ]
  },
  {
   "cell_type": "code",
   "execution_count": null,
   "id": "70fb38c1-0380-4b5b-aa9c-eb733bed32d6",
   "metadata": {},
   "outputs": [],
   "source": []
  }
 ],
 "metadata": {
  "kernelspec": {
   "display_name": "R",
   "language": "R",
   "name": "ir"
  },
  "language_info": {
   "codemirror_mode": "r",
   "file_extension": ".r",
   "mimetype": "text/x-r-source",
   "name": "R",
   "pygments_lexer": "r",
   "version": "4.3.3"
  }
 },
 "nbformat": 4,
 "nbformat_minor": 5
}
