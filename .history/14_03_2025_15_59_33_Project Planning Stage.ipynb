{
 "cells": [
  {
   "cell_type": "markdown",
   "id": "20b409e7-32cb-44b1-9493-bf5e2a2583ab",
   "metadata": {},
   "source": [
    "# Project Planning Stage (Individual)\n",
    "\n",
    "## (1) Data Description:\n",
    "- ### player.csv\n",
    "    - The player.csv dataset contains information about each unique player that has played on the MineCraft server. With the record spanning 196 different players (observations), the dataset keeps track of 7 kinds of information (variables) of each player as seen in the following.\n",
    "\n",
    "| **Information**    | **Information Type** | **Description**        | **Statistic Summary**    | **Experience** | **Factor**    |\n",
    "|--------------------|----------------------|------------------------|--------------------------|----------------|---------------|\n",
    "| subscribe          | Logical              | (lgl)                  | -                        | -              | -             |\n",
    "| hashedEmail        | Character Vector     | (chr)                  | -                        | -              | -             |\n",
    "| played_hours       | Double               | (dbl)                  | Mean/Median/Mode/Min/Max | -              | -             |\n",
    "| name               | String               | (chr)                  | -                        | -              | -             |\n",
    "| gender             | String               | (chr)                  | -                        | -              | -             |\n",
    "| Age                | Double               | (dbl)                  | Mean/Median/Mode/Min/Max | -              | -             |\n",
    "\n",
    "- In this dataset, there are some potential issues that are present in the data.\n",
    "  1. There are 'N/A' values in some of the cells, indicating that we have to either skip over those cells or replace them with a different value\n",
    "  2. The dataset underrepresents Non-binary people as they seems be in the minority in the gender category\n",
    "  3. The dataset underrepresents people of higher ages as most of the players around around 18 - 21\n",
    "- Additionally, some unseen factors may include things such as where the data was collected or the reasoning behind people inputting 'N/A' as an answer "
   ]
  },
  {
   "cell_type": "markdown",
   "id": "34c3cfbf-2169-4be4-a665-c3fd11a9ae47",
   "metadata": {},
   "source": [
    "## (2) Questions:\n",
    "- ### Broad Question\n",
    "    - What player characteristics and behaviours are most predictive of subscribing to a game-related newsletter, and how do these features differ between various player types?\n",
    "- ### Specific Question\n",
    "    - Can the skill level of players, age, and played hours predict subscription rates in player.csv?"
   ]
  },
  {
   "cell_type": "markdown",
   "id": "b03fc4d4-06e3-4842-9db4-ff9513a80a8a",
   "metadata": {},
   "source": [
    "## (3) Exploratory Data Analysis and Visualization:"
   ]
  },
  {
   "cell_type": "code",
   "execution_count": null,
   "id": "73c9b4a3-5023-4333-98f6-444164719183",
   "metadata": {},
   "outputs": [],
   "source": [
    "#Required libraries\n",
    "library(tidyverse)"
   ]
  },
  {
   "cell_type": "code",
   "execution_count": null,
   "id": "64ae9ed8-b504-4513-a48c-eee472aeaf28",
   "metadata": {},
   "outputs": [],
   "source": [
    "# Loading dataset into R\n",
    "players_data <- read_csv(\"data/players.csv\")\n",
    "players_data |> head(10)"
   ]
  },
  {
   "cell_type": "code",
   "execution_count": null,
   "id": "4b5f22e2-8808-41cd-a3fa-613e4e95f77b",
   "metadata": {},
   "outputs": [],
   "source": [
    "# Minimum Wrangling on dataset\n",
    "players_tidy <- players_data |>\n",
    "    mutate(experience = as_factor(experience), gender = as_factor(gender))\n",
    "players_tidy |> head(10)"
   ]
  },
  {
   "cell_type": "code",
   "execution_count": null,
   "id": "3820da10-b642-4000-a5fd-66d0128937b3",
   "metadata": {},
   "outputs": [],
   "source": [
    "#Computing mean values for each quantitative variable\n",
    "players_mean <- players_tidy |> \n",
    "    select(played_hours, Age) |> \n",
    "    map_dfr(max, na.rm = TRUE)\n",
    "players_mean"
   ]
  },
  {
   "cell_type": "code",
   "execution_count": null,
   "id": "70fb38c1-0380-4b5b-aa9c-eb733bed32d6",
   "metadata": {},
   "outputs": [],
   "source": [
    "# Exploratory Visualizations\n",
    "players_scatter <- players_tidy |>\n",
    "    ggplot(aes(x = Age, y = played_hours, color = experience)) +\n",
    "    geom_point(alpha = 0.9) + \n",
    "\tscale_x_log10() +\n",
    "    scale_y_log10() +\n",
    "    labs(x = \"Age (years)\", y = \"Hours Played (hours)\", color = \"Experience Level\") +\n",
    "    ggtitle(\"Hours Played vs. Age Relationship\") +\n",
    "    theme(text = element_text(size = 18))\n",
    "\n",
    "players_scatter_sub <- players_tidy |>\n",
    "    ggplot(aes(x = Age, y = played_hours, color = subscribe)) +\n",
    "    geom_point(alpha = 0.9) + \n",
    "\tscale_x_log10() +\n",
    "    scale_y_log10() +\n",
    "    labs(x = \"Age (years)\", y = \"Hours Played (hours)\", color = \"Subscribed?\") +\n",
    "    ggtitle(\"Hours Played vs. Age Relationship\") +\n",
    "    theme(text = element_text(size = 18))\n",
    "\n",
    "players_bar_gender <- players_tidy |>\n",
    "    ggplot(aes(x = Age, y = played_hours)) +\n",
    "    geom_bar(stat = \"identity\") +\n",
    "    labs(x = \"Age (years)\", y = \"Hours Played (hours)\") +\n",
    "    ggtitle(\"Hours Played vs. Age Relationship\") +\n",
    "    theme(text = element_text(size = 18)) + facet_grid(rows = vars(experience))\n",
    "\n",
    "players_bar_ex <- players_tidy |>\n",
    "    ggplot(aes(x = Age, y = played_hours, fill = experience)) +\n",
    "    geom_bar(stat = \"identity\") +\n",
    "    labs(x = \"Age (years)\", y = \"Hours Played (hours)\", fill = \"Experience Level\") +\n",
    "    ggtitle(\"Hours Played vs. Age Relationship\") +\n",
    "    theme(text = element_text(size = 18))+ facet_grid(rows = vars(experience))\n",
    "\n",
    "players_bar_gender_better <- players_tidy |>\n",
    "    ggplot(aes(x = gender, fill = experience)) +\n",
    "    geom_histogram(stat = \"count\") +\n",
    "    labs(x = \"Gender\", y = \"Number of Players\") +\n",
    "    ggtitle(\"Distribution of player across gender and \\nexperience\") +\n",
    "    theme(text = element_text(size = 18),\n",
    "         axis.text.x = element_text(angle = 45, hjust = 1))\n",
    "\n",
    "players_scatter\n",
    "players_bar_gender\n",
    "players_bar_ex\n",
    "players_scatter_sub\n",
    "players_bar_gender_better"
   ]
  },
  {
   "cell_type": "markdown",
   "id": "3c4730a7-c4e6-4dc6-a00d-5fd5308c6ad7",
   "metadata": {},
   "source": [
    "- ### Insight\n",
    "    - Players with the most experience spends the least amount of time on the server.\n",
    "    - There seems to be an overrepresentation of Males in the gender category.\n",
    "    - Gender does not seem to share a relationship with the amount of hours played.\n",
    "    - Most of the players in the dataset are subscribed"
   ]
  },
  {
   "cell_type": "markdown",
   "id": "52730ece-fd57-4491-965e-3e34b0dff3a9",
   "metadata": {},
   "source": [
    "## (4) Methods and Plan:\n",
    "\n",
    "Method:\n",
    "1. Wrangle dataset and filter out any unused variables.\n",
    "2. Use visuzalization techniques to estimate generally where the answer may be\n",
    "3. Split the dataset in to training set and testing set, 75/25 split\n",
    "4. Fold the training set until optimal K\n",
    "5. Train the model and use it to predict training set\n",
    "6. Finally use the model to predict and measure accuracy on testing set\n",
    "\n",
    "1. Wrangle dataset and filter out \n",
    "\n",
    "- Why is this method appropriate?\n",
    "    - Getting a general understanding of the question at hand is better to know if the rest of the porject is going in the right direction.\n",
    "- Which assumptions are required, if any, to apply the method selected?\n",
    "    - That this dataset is perfectly equal and no biases occured when collecting it.\n",
    "- What are the potential limitations or weaknesses of the method selected?\n",
    "    - The imbalance in class may be make the model become biased on one end.\n",
    "- How are you going to compare and select the model?\n",
    "    - By measuring the accuraccy and something..\n",
    "- How are you going to process the data to apply the model? For example: Are you splitting the data? How? How many splits?\n",
    "    - Splliting into 5?\n",
    "- What proportions will you use for the splits? At what stage will you split? Will there be a validation set? Will you use cross validation?\n",
    "  - 75/25 split right after the vizualization phase.\n",
    "\n",
    "- ### Broad Question\n",
    "    - What player characteristics and behaviours are most predictive of subscribing to a game-related newsletter, and how do these features differ between various player types?\n",
    "- ### Specific Question\n",
    "    - Can the skill level of players, age, and played hours predict subscription rates in player.csv?"
   ]
  },
  {
   "cell_type": "markdown",
   "id": "a4ddba9b-f4c2-4cbd-b635-496d10af9a9d",
   "metadata": {},
   "source": [
    "To answer the broad and specific question, I would utilize the K-Nearest-Nieghbor classification model to assess the problem. Specifically, I would utilize the appraoch from binary classification as the value we are prediciting is a logical type which means there is only two possible outcomes. However, before applying this method, a few things must be considered. W"
   ]
  }
 ],
 "metadata": {
  "kernelspec": {
   "display_name": "R",
   "language": "R",
   "name": "ir"
  },
  "language_info": {
   "codemirror_mode": "r",
   "file_extension": ".r",
   "mimetype": "text/x-r-source",
   "name": "R",
   "pygments_lexer": "r",
   "version": "4.3.3"
  }
 },
 "nbformat": 4,
 "nbformat_minor": 5
}
