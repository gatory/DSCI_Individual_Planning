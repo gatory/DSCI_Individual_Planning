{
 "cells": [
  {
   "cell_type": "markdown",
   "id": "20b409e7-32cb-44b1-9493-bf5e2a2583ab",
   "metadata": {},
   "source": [
    "# Project Planning Stage (Individual)\n",
    "\n",
    "## (1) Data Description:\n",
    "- ### player.csv\n",
    "    - The player.csv dataset contains information about each unique player that has played on the MineCraft server. With the record spanning 196 different players (observations), the dataset keeps track of 7 kinds of information (variables) of each player as seen in the following.\n",
    "\n",
    "| **Information**    | **Information Type** | **Description**        | **Statistic Summary**    |\n",
    "|--------------------|----------------------|------------------------|--------------------------|\n",
    "| subscribe          | Logical              | whether a player is subscribed to the newsletter                | N/A                        |\n",
    "| hashedEmail        | Character Vector     | the hasmail of the player                 | N/A                        |\n",
    "| played_hours       | Double               | the amount of hours the player spent on the server                  | Mean: 20 Min: 0 Max: 223.1|\n",
    "| name               | String               | name of the player                  | N/A                         |\n",
    "| gender             | String               | gender of the player                  | N/A                        |\n",
    "| Age                | Double               | age of the player                  |Mean: 20 Min: 8 Max: 50|\n",
    "| experience                | Character Vector               | experience level of player                  |N/A|\n",
    "\n",
    "- In this dataset, there are some potential issues that are present in the data.\n",
    "  1. There are 'N/A' values in some of the cells, indicating that we have to either skip over those cells or replace them with a different value\n",
    "  2. The dataset underrepresents Non-binary people as they seems be in the minority in the gender category\n",
    "  3. The dataset underrepresents people of higher ages as most of the players around around 18 - 21\n",
    "- Additionally, some unseen factors may include things such as where the data was collected or the reasoning behind people inputting 'N/A' as an answer "
   ]
  },
  {
   "cell_type": "markdown",
   "id": "34c3cfbf-2169-4be4-a665-c3fd11a9ae47",
   "metadata": {},
   "source": [
    "## (2) Questions:\n",
    "- ### Broad Question\n",
    "    - What player characteristics and behaviours are most predictive of subscribing to a game-related newsletter, and how do these features differ between various player types?\n",
    "- ### Specific Question\n",
    "    - Can the the player type, age and played hours of players predict if they are going to subscribe to a game-related newsletter and which player type is the most predictive?\n",
    " \n",
    "### Process with Given Data\n",
    "I plan to utilized the provided data to predict whether if a player will subscribe or not to the newsletter. By using a binary k-nn classification model I can use the values of Age and hours played to  predict whether if a player will subscribe to a newletter. Additionally, I can group the experience levels of players into sepearte dataset and see which oWith only quantitative data being useful in this classification model, I would only require the subscribe, experience, played_hours, and age columns. Hence I would wrangle the data so that it only contains those 4 columns by using the select() function. Lastly, I would filter for each player experience level and train models based on each one."
   ]
  },
  {
   "cell_type": "markdown",
   "id": "b03fc4d4-06e3-4842-9db4-ff9513a80a8a",
   "metadata": {},
   "source": [
    "## (3) Exploratory Data Analysis and Visualization:"
   ]
  },
  {
   "cell_type": "code",
   "execution_count": null,
   "id": "73c9b4a3-5023-4333-98f6-444164719183",
   "metadata": {},
   "outputs": [],
   "source": [
    "#Required libraries\n",
    "library(tidyverse)"
   ]
  },
  {
   "cell_type": "code",
   "execution_count": null,
   "id": "64ae9ed8-b504-4513-a48c-eee472aeaf28",
   "metadata": {},
   "outputs": [],
   "source": [
    "# Loading dataset into R\n",
    "players_data <- read_csv(\"data/players.csv\")\n",
    "players_data |> head(10)"
   ]
  },
  {
   "cell_type": "code",
   "execution_count": null,
   "id": "4b5f22e2-8808-41cd-a3fa-613e4e95f77b",
   "metadata": {},
   "outputs": [],
   "source": [
    "# Minimum Wrangling on dataset\n",
    "players_tidy <- players_data |>\n",
    "    mutate(experience = as_factor(experience), gender = as_factor(gender))\n",
    "players_tidy |> head(10)"
   ]
  },
  {
   "cell_type": "code",
   "execution_count": null,
   "id": "3820da10-b642-4000-a5fd-66d0128937b3",
   "metadata": {},
   "outputs": [],
   "source": [
    "#Computing mean values for each quantitative variable\n",
    "players_mean <- players_tidy |> \n",
    "    select(played_hours, Age) |> \n",
    "    map_dfr(mean, na.rm = TRUE)\n",
    "players_mean"
   ]
  },
  {
   "cell_type": "code",
   "execution_count": null,
   "id": "70fb38c1-0380-4b5b-aa9c-eb733bed32d6",
   "metadata": {},
   "outputs": [],
   "source": [
    "# Exploratory Visualizations\n",
    "players_scatter <- players_tidy |>\n",
    "    ggplot(aes(x = Age, y = played_hours, color = experience)) +\n",
    "    geom_point(alpha = 0.9) + \n",
    "\tscale_x_log10() +\n",
    "    scale_y_log10() +\n",
    "    labs(x = \"Age (years)\", y = \"Hours Played (hours)\", color = \"Experience Level\") +\n",
    "    ggtitle(\"Hours Played vs. Age Relationship\") +\n",
    "    theme(text = element_text(size = 18))\n",
    "\n",
    "players_scatter_sub <- players_tidy |>\n",
    "    ggplot(aes(x = Age, y = played_hours, color = subscribe)) +\n",
    "    geom_point(alpha = 0.9) + \n",
    "\tscale_x_log10() +\n",
    "    scale_y_log10() +\n",
    "    labs(x = \"Age (years)\", y = \"Hours Played (hours)\", color = \"Subscribed?\") +\n",
    "    ggtitle(\"Hours Played vs. Age Relationship\") +\n",
    "    theme(text = element_text(size = 18))\n",
    "\n",
    "players_bar_gender <- players_tidy |>\n",
    "    ggplot(aes(x = Age, y = played_hours)) +\n",
    "    geom_bar(stat = \"identity\") +\n",
    "    labs(x = \"Age (years)\", y = \"Hours Played (hours)\") +\n",
    "    ggtitle(\"Hours Played vs. Age Relationship\") +\n",
    "    theme(text = element_text(size = 18)) + facet_grid(rows = vars(experience))\n",
    "\n",
    "players_bar_ex <- players_tidy |>\n",
    "    ggplot(aes(x = Age, y = played_hours, fill = experience)) +\n",
    "    geom_bar(stat = \"identity\") +\n",
    "    labs(x = \"Age (years)\", y = \"Hours Played (hours)\", fill = \"Experience Level\") +\n",
    "    ggtitle(\"Hours Played vs. Age Relationship\") +\n",
    "    theme(text = element_text(size = 18))+ facet_grid(rows = vars(experience))\n",
    "\n",
    "players_bar_gender_better <- players_tidy |>\n",
    "    ggplot(aes(x = gender, fill = experience)) +\n",
    "    geom_histogram(stat = \"count\") +\n",
    "    labs(x = \"Gender\", y = \"Number of Players\") +\n",
    "    ggtitle(\"Distribution of player across gender and \\nexperience\") +\n",
    "    theme(text = element_text(size = 18),\n",
    "         axis.text.x = element_text(angle = 45, hjust = 1))\n",
    "\n",
    "players_scatter\n",
    "players_bar_gender\n",
    "players_bar_ex\n",
    "players_scatter_sub\n",
    "players_bar_gender_better"
   ]
  },
  {
   "cell_type": "markdown",
   "id": "3c4730a7-c4e6-4dc6-a00d-5fd5308c6ad7",
   "metadata": {},
   "source": [
    "- ### Insight\n",
    "    - Players with the most experience spends the least amount of time on the server.\n",
    "    - There seems to be an overrepresentation of people around the ages of ~18-20.\n",
    "    - Gender does not seem to share a relationship with the amount of hours played.\n",
    "    - Most of the players in the dataset are subscribed"
   ]
  },
  {
   "cell_type": "markdown",
   "id": "52730ece-fd57-4491-965e-3e34b0dff3a9",
   "metadata": {},
   "source": [
    "## (4) Methods and Plan:\n",
    "\n",
    "Method:\n",
    "1. Wrangle dataset and filter out irrelavent variables. (such as hashmail)\n",
    "2. Use vizualization techniques to understand the data and generally estimate what an answer might be like\n",
    "3. Filter for each player type and preform the following step for each data set\n",
    "    1. Split the data into training and testing sets, 85/15 split\n",
    "    2. Fold the training data into 5 folds\n",
    "    3. Train, fit, and tune accuracy using k-nn binary classification model until the best K is found. K range should be frome 1-30\n",
    "    4. Use best k to retrain the k-nn classification model with training set\n",
    "    5. Assess accuracy and precision with the testing set and make sure it it better than the majority classification model\n",
    "    6. Run the predictor through forward selection to find the most important predictors\n",
    "4. Compare which one model yields the most accuracy in the end to see which player type is the most preditable one\n",
    "\n",
    "\n",
    "To answer the broad and specific question, I utilize the K-Nearest-Neighbor binary classification model to assess the problem. This is mainly due to the fact that the prediction I am making only has two states, if the new player is going subscribe or not. Hence, choosing this method of modeling of a binary classification would be the most appropriate. However, before exacuting this, there are a couple of assumption I need to make. Firstly, the dataset used has no outliers as it might distort the prediction. And secondly, the dataset consist of a sufficient sample size of each experience level of player to make a fairly accurate prediction. Nevertheless, some limitation of this model may include how it preforms poorly when there are too many predictors or when the classes are imbalance. However, I can try to maximize the accuracy of the models by utilizing cross validation methods when training the classification model. Through this way, I can compare among the models with different K values and identify the best one that yields the highest accuracy.\n",
    "\n",
    "Through my process, I will be splitting my dataset 6 times in total for each player experience level dataset. Firstly, I would split the dataset into training set and testing sets right after the dataset is wrangled into a tidy fromat. Then when I need to tune the best K value, I would split the training set into 5 chunks to apply cross validation on it. The initial split will consist of a 85/15 split beteween the training set and the testing set. The other 5 splitted chunks from the training set would be an even proportion split, so it can use crass validation later on."
   ]
  },
  {
   "cell_type": "code",
   "execution_count": null,
   "id": "8d0438b2-6d09-46b8-b688-305320303472",
   "metadata": {},
   "outputs": [],
   "source": [
    "source(\"cleanup.R\")"
   ]
  },
  {
   "cell_type": "code",
   "execution_count": null,
   "id": "e61648c2-54ba-49ac-b5c4-9547ec481635",
   "metadata": {},
   "outputs": [],
   "source": []
  }
 ],
 "metadata": {
  "kernelspec": {
   "display_name": "R",
   "language": "R",
   "name": "ir"
  },
  "language_info": {
   "codemirror_mode": "r",
   "file_extension": ".r",
   "mimetype": "text/x-r-source",
   "name": "R",
   "pygments_lexer": "r",
   "version": "4.3.3"
  }
 },
 "nbformat": 4,
 "nbformat_minor": 5
}
